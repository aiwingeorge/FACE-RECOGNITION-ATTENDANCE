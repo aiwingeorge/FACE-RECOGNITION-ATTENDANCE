{
 "cells": [
  {
   "cell_type": "code",
   "execution_count": 24,
   "metadata": {},
   "outputs": [],
   "source": [
    "import cv2\n",
    "import os\n",
    "import numpy as np\n",
    "import pandas as pd\n",
    "from datetime import datetime, date"
   ]
  },
  {
   "cell_type": "code",
   "execution_count": 25,
   "metadata": {},
   "outputs": [],
   "source": [
    "import cv2\n",
    "import os\n",
    "import numpy as np\n",
    "import pandas as pd\n",
    "from datetime import datetime, date\n",
    "\n",
    "count = 0\n",
    "person_data = {}\n",
    "\n",
    "def scan_now(n):\n",
    "    face_cascade = cv2.CascadeClassifier('/home/aiwin/Deep_Learning/1_Face_Detection/haarcascade_frontalface_default.xml')\n",
    "\n",
    "    video = cv2.VideoCapture(0)\n",
    "\n",
    "    while True:\n",
    "        success, frame = video.read()\n",
    "\n",
    "        gray = cv2.cvtColor(frame, cv2.COLOR_BGR2GRAY)\n",
    "        faces = face_cascade.detectMultiScale(gray, scaleFactor=1.1, minNeighbors=4, minSize=(30, 30))\n",
    "\n",
    "        face = []\n",
    "        face.append(len(faces))\n",
    "        df = pd.DataFrame(face, columns=['attendance'])\n",
    "\n",
    "        for (x, y, w, h) in faces:\n",
    "            cv2.rectangle(frame, (x, y), (x+w, y+h), (0, 255, 0), 3)\n",
    "\n",
    "        cv2.imshow('Mark Your Attendance', frame)\n",
    "        if cv2.waitKey(1) & 0xFF == 27:\n",
    "            break\n",
    "\n",
    "    video.release()\n",
    "    cv2.destroyAllWindows()\n",
    "    x = df['attendance'].mode()[0]\n",
    "\n",
    "    now = datetime.now()\n",
    "    current_date = date.today().strftime(\"%Y-%m-%d\")\n",
    "    current_time = now.strftime(\"%H:%M:%S\")\n",
    "\n",
    "    global person_data\n",
    "    if current_date not in person_data:\n",
    "        person_data[current_date] = {'attendance': x, 'time': current_time}\n",
    "        return x, current_time\n",
    "    else:\n",
    "        return person_data[current_date]['attendance'], person_data[current_date]['time']\n",
    "\n",
    "k, current_time = scan_now(count)\n",
    "count += k\n",
    "print('Attendance for today is', count)\n",
    "print('Current time is', current_time,k)\n",
    "\n"
   ]
  },
  {
   "cell_type": "code",
   "execution_count": 26,
   "metadata": {},
   "outputs": [
    {
     "name": "stdout",
     "output_type": "stream",
     "text": [
      "Attendance for today is 0\n",
      "Current time is 15:38:40 0\n"
     ]
    }
   ],
   "source": [
    "k, current_time = scan_now(count)\n",
    "count += k\n",
    "print('Attendance for today is', count)\n",
    "print('Current time is', current_time,k)"
   ]
  },
  {
   "cell_type": "code",
   "execution_count": 21,
   "metadata": {},
   "outputs": [
    {
     "name": "stdout",
     "output_type": "stream",
     "text": [
      "         Date  attendance      time\n",
      "0  2023-06-15           1  15:35:32\n"
     ]
    }
   ],
   "source": [
    "df = pd.DataFrame.from_dict(person_data, orient='index')\n",
    "df.to_csv('attendance.csv', index_label='Date')\n",
    "data=pd.read_csv('attendance.csv')\n",
    "print(data)"
   ]
  }
 ],
 "metadata": {
  "kernelspec": {
   "display_name": "Python 3",
   "language": "python",
   "name": "python3"
  },
  "language_info": {
   "codemirror_mode": {
    "name": "ipython",
    "version": 3
   },
   "file_extension": ".py",
   "mimetype": "text/x-python",
   "name": "python",
   "nbconvert_exporter": "python",
   "pygments_lexer": "ipython3",
   "version": "3.8.10"
  },
  "orig_nbformat": 4
 },
 "nbformat": 4,
 "nbformat_minor": 2
}
